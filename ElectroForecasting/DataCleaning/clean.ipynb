{
 "cells": [
  {
   "cell_type": "markdown",
   "id": "e026186d",
   "metadata": {},
   "source": [
    "# Consumer Electronics Sales Forecasting\n",
    "## **Focus:** Sales forecasting for Fast Moving Consumer Electronics to Optimize Inventory Management and Maximize Profitability."
   ]
  },
  {
   "cell_type": "markdown",
   "id": "a372fdf8",
   "metadata": {},
   "source": [
    "### Import Data"
   ]
  },
  {
   "cell_type": "code",
   "execution_count": 9,
   "id": "13cceae7",
   "metadata": {},
   "outputs": [],
   "source": [
    "import pandas as pd\n",
    "import numpy as np\n",
    "import matplotlib.pyplot as plt\n",
    "import warnings\n",
    "\n",
    "warnings.filterwarnings(\"ignore\")\n",
    "pd.set_option('display.max_columns', None)"
   ]
  },
  {
   "cell_type": "code",
   "execution_count": 10,
   "id": "2b11cda9",
   "metadata": {},
   "outputs": [],
   "source": [
    "data = pd.read_csv(r'C:\\Users\\hp\\Downloads\\redertelecomchurn\\ElectroForecasting\\ElectroTech Forecasting Data.csv')"
   ]
  },
  {
   "cell_type": "code",
   "execution_count": 11,
   "id": "615229e1",
   "metadata": {},
   "outputs": [
    {
     "data": {
      "text/html": [
       "<div>\n",
       "<style scoped>\n",
       "    .dataframe tbody tr th:only-of-type {\n",
       "        vertical-align: middle;\n",
       "    }\n",
       "\n",
       "    .dataframe tbody tr th {\n",
       "        vertical-align: top;\n",
       "    }\n",
       "\n",
       "    .dataframe thead th {\n",
       "        text-align: right;\n",
       "    }\n",
       "</style>\n",
       "<table border=\"1\" class=\"dataframe\">\n",
       "  <thead>\n",
       "    <tr style=\"text-align: right;\">\n",
       "      <th></th>\n",
       "      <th>Product_ID</th>\n",
       "      <th>Category</th>\n",
       "      <th>Price</th>\n",
       "      <th>Date</th>\n",
       "      <th>Season</th>\n",
       "      <th>Market_Trend_Index</th>\n",
       "      <th>Competitor_Activity_Score</th>\n",
       "      <th>Consumer_Confidence_Index</th>\n",
       "      <th>Product_Specification_1</th>\n",
       "      <th>Product_Specification_2</th>\n",
       "      <th>Sales_Volume</th>\n",
       "    </tr>\n",
       "  </thead>\n",
       "  <tbody>\n",
       "    <tr>\n",
       "      <th>0</th>\n",
       "      <td>1103</td>\n",
       "      <td>Laptop</td>\n",
       "      <td>105.32</td>\n",
       "      <td>2009-01-01</td>\n",
       "      <td>Winter</td>\n",
       "      <td>-1.859160</td>\n",
       "      <td>0.546694</td>\n",
       "      <td>84.680465</td>\n",
       "      <td>Spec_C</td>\n",
       "      <td>Long-Battery-Life</td>\n",
       "      <td>49</td>\n",
       "    </tr>\n",
       "    <tr>\n",
       "      <th>1</th>\n",
       "      <td>1436</td>\n",
       "      <td>Tablet</td>\n",
       "      <td>145.55</td>\n",
       "      <td>2009-01-01</td>\n",
       "      <td>Winter</td>\n",
       "      <td>-0.345587</td>\n",
       "      <td>0.940428</td>\n",
       "      <td>42.919288</td>\n",
       "      <td>Spec_C</td>\n",
       "      <td>Lightweight</td>\n",
       "      <td>69</td>\n",
       "    </tr>\n",
       "    <tr>\n",
       "      <th>2</th>\n",
       "      <td>1271</td>\n",
       "      <td>Smartphone</td>\n",
       "      <td>97.82</td>\n",
       "      <td>2009-01-01</td>\n",
       "      <td>Winter</td>\n",
       "      <td>-0.384738</td>\n",
       "      <td>0.751155</td>\n",
       "      <td>55.191268</td>\n",
       "      <td>Spec_B</td>\n",
       "      <td>Lightweight</td>\n",
       "      <td>50</td>\n",
       "    </tr>\n",
       "    <tr>\n",
       "      <th>3</th>\n",
       "      <td>1107</td>\n",
       "      <td>Laptop</td>\n",
       "      <td>64.00</td>\n",
       "      <td>2009-01-01</td>\n",
       "      <td>Winter</td>\n",
       "      <td>0.716763</td>\n",
       "      <td>0.125939</td>\n",
       "      <td>88.746454</td>\n",
       "      <td>Spec_B</td>\n",
       "      <td>High-Resolution</td>\n",
       "      <td>28</td>\n",
       "    </tr>\n",
       "    <tr>\n",
       "      <th>4</th>\n",
       "      <td>1072</td>\n",
       "      <td>Tablet</td>\n",
       "      <td>67.83</td>\n",
       "      <td>2009-01-01</td>\n",
       "      <td>Winter</td>\n",
       "      <td>-0.242074</td>\n",
       "      <td>-0.412932</td>\n",
       "      <td>67.947536</td>\n",
       "      <td>Spec_A</td>\n",
       "      <td>Long-Battery-Life</td>\n",
       "      <td>81</td>\n",
       "    </tr>\n",
       "    <tr>\n",
       "      <th>...</th>\n",
       "      <td>...</td>\n",
       "      <td>...</td>\n",
       "      <td>...</td>\n",
       "      <td>...</td>\n",
       "      <td>...</td>\n",
       "      <td>...</td>\n",
       "      <td>...</td>\n",
       "      <td>...</td>\n",
       "      <td>...</td>\n",
       "      <td>...</td>\n",
       "      <td>...</td>\n",
       "    </tr>\n",
       "    <tr>\n",
       "      <th>136188</th>\n",
       "      <td>1361</td>\n",
       "      <td>Tablet</td>\n",
       "      <td>97.73</td>\n",
       "      <td>2020-12-29</td>\n",
       "      <td>Winter</td>\n",
       "      <td>0.953956</td>\n",
       "      <td>-0.555596</td>\n",
       "      <td>69.407099</td>\n",
       "      <td>Spec_C</td>\n",
       "      <td>High-Resolution</td>\n",
       "      <td>162</td>\n",
       "    </tr>\n",
       "    <tr>\n",
       "      <th>136189</th>\n",
       "      <td>1147</td>\n",
       "      <td>Tablet</td>\n",
       "      <td>173.21</td>\n",
       "      <td>2020-12-29</td>\n",
       "      <td>Winter</td>\n",
       "      <td>-0.781121</td>\n",
       "      <td>0.323828</td>\n",
       "      <td>90.737931</td>\n",
       "      <td>Spec_B</td>\n",
       "      <td>Long-Battery-Life</td>\n",
       "      <td>161</td>\n",
       "    </tr>\n",
       "    <tr>\n",
       "      <th>136190</th>\n",
       "      <td>1405</td>\n",
       "      <td>Accessories</td>\n",
       "      <td>154.62</td>\n",
       "      <td>2020-12-30</td>\n",
       "      <td>Winter</td>\n",
       "      <td>-0.210343</td>\n",
       "      <td>-1.055552</td>\n",
       "      <td>53.747320</td>\n",
       "      <td>Spec_A</td>\n",
       "      <td>Long-Battery-Life</td>\n",
       "      <td>182</td>\n",
       "    </tr>\n",
       "    <tr>\n",
       "      <th>136191</th>\n",
       "      <td>1329</td>\n",
       "      <td>Smartphone</td>\n",
       "      <td>152.00</td>\n",
       "      <td>2020-12-30</td>\n",
       "      <td>Winter</td>\n",
       "      <td>-0.492417</td>\n",
       "      <td>-1.064359</td>\n",
       "      <td>88.582224</td>\n",
       "      <td>Spec_A</td>\n",
       "      <td>Long-Battery-Life</td>\n",
       "      <td>287</td>\n",
       "    </tr>\n",
       "    <tr>\n",
       "      <th>136192</th>\n",
       "      <td>1651</td>\n",
       "      <td>Accessories</td>\n",
       "      <td>154.60</td>\n",
       "      <td>2020-12-30</td>\n",
       "      <td>Winter</td>\n",
       "      <td>0.338464</td>\n",
       "      <td>1.684223</td>\n",
       "      <td>51.546006</td>\n",
       "      <td>Spec_A</td>\n",
       "      <td>High-Resolution</td>\n",
       "      <td>239</td>\n",
       "    </tr>\n",
       "  </tbody>\n",
       "</table>\n",
       "<p>136193 rows × 11 columns</p>\n",
       "</div>"
      ],
      "text/plain": [
       "        Product_ID     Category   Price        Date  Season  \\\n",
       "0             1103       Laptop  105.32  2009-01-01  Winter   \n",
       "1             1436       Tablet  145.55  2009-01-01  Winter   \n",
       "2             1271   Smartphone   97.82  2009-01-01  Winter   \n",
       "3             1107       Laptop   64.00  2009-01-01  Winter   \n",
       "4             1072       Tablet   67.83  2009-01-01  Winter   \n",
       "...            ...          ...     ...         ...     ...   \n",
       "136188        1361       Tablet   97.73  2020-12-29  Winter   \n",
       "136189        1147       Tablet  173.21  2020-12-29  Winter   \n",
       "136190        1405  Accessories  154.62  2020-12-30  Winter   \n",
       "136191        1329   Smartphone  152.00  2020-12-30  Winter   \n",
       "136192        1651  Accessories  154.60  2020-12-30  Winter   \n",
       "\n",
       "        Market_Trend_Index  Competitor_Activity_Score  \\\n",
       "0                -1.859160                   0.546694   \n",
       "1                -0.345587                   0.940428   \n",
       "2                -0.384738                   0.751155   \n",
       "3                 0.716763                   0.125939   \n",
       "4                -0.242074                  -0.412932   \n",
       "...                    ...                        ...   \n",
       "136188            0.953956                  -0.555596   \n",
       "136189           -0.781121                   0.323828   \n",
       "136190           -0.210343                  -1.055552   \n",
       "136191           -0.492417                  -1.064359   \n",
       "136192            0.338464                   1.684223   \n",
       "\n",
       "        Consumer_Confidence_Index Product_Specification_1  \\\n",
       "0                       84.680465                  Spec_C   \n",
       "1                       42.919288                  Spec_C   \n",
       "2                       55.191268                  Spec_B   \n",
       "3                       88.746454                  Spec_B   \n",
       "4                       67.947536                  Spec_A   \n",
       "...                           ...                     ...   \n",
       "136188                  69.407099                  Spec_C   \n",
       "136189                  90.737931                  Spec_B   \n",
       "136190                  53.747320                  Spec_A   \n",
       "136191                  88.582224                  Spec_A   \n",
       "136192                  51.546006                  Spec_A   \n",
       "\n",
       "       Product_Specification_2  Sales_Volume  \n",
       "0            Long-Battery-Life            49  \n",
       "1                  Lightweight            69  \n",
       "2                  Lightweight            50  \n",
       "3              High-Resolution            28  \n",
       "4            Long-Battery-Life            81  \n",
       "...                        ...           ...  \n",
       "136188         High-Resolution           162  \n",
       "136189       Long-Battery-Life           161  \n",
       "136190       Long-Battery-Life           182  \n",
       "136191       Long-Battery-Life           287  \n",
       "136192         High-Resolution           239  \n",
       "\n",
       "[136193 rows x 11 columns]"
      ]
     },
     "execution_count": 11,
     "metadata": {},
     "output_type": "execute_result"
    }
   ],
   "source": [
    "data"
   ]
  },
  {
   "cell_type": "code",
   "execution_count": 12,
   "id": "a6460b02",
   "metadata": {},
   "outputs": [
    {
     "data": {
      "text/plain": [
       "array(['Laptop', 'Tablet', 'Smartphone', 'Accessories'], dtype=object)"
      ]
     },
     "execution_count": 12,
     "metadata": {},
     "output_type": "execute_result"
    }
   ],
   "source": [
    "data['Category'].unique()"
   ]
  },
  {
   "cell_type": "markdown",
   "id": "52e2c313",
   "metadata": {},
   "source": [
    "A quick overview of what each column represents to note from this:\n",
    "- `Product_ID`: This is the ID that distinguishes the products from each other. It contains integer values.\n",
    "- `Category`: This is the product category, from what can be seen here, there are Laptop, Tablet and Smartphone categories among other.\n",
    "- `Price`: This is the price of the product in US dollars.\n",
    "- `Date`: The date of the sale of that product.\n",
    "- `Season`: The season of the year that product was sold.\n",
    "- `Market_Trend_Index`: Represents external factors affecting the electronic industry.\n",
    "- `Competitor_Activity_Score`: Measure the influence of the company's competitors in the market.\n",
    "- `Consumer_Confidence_Index`: Measures consumer confidence at that particular date.\n",
    "- Product Specifications: Specific information on the the products themselves."
   ]
  },
  {
   "cell_type": "markdown",
   "id": "30327594",
   "metadata": {},
   "source": [
    "### Data Preparation"
   ]
  },
  {
   "cell_type": "markdown",
   "id": "e836856c",
   "metadata": {},
   "source": [
    "- Check for missing values\n",
    "- Check for duplicate\n",
    "- Deal with datatypes\n",
    "- Check data distribution to account for outliers and deal with these outliers"
   ]
  },
  {
   "cell_type": "code",
   "execution_count": 13,
   "id": "ba2a7056",
   "metadata": {},
   "outputs": [
    {
     "name": "stdout",
     "output_type": "stream",
     "text": [
      "Product_ID                   0\n",
      "Category                     0\n",
      "Price                        0\n",
      "Date                         0\n",
      "Season                       0\n",
      "Market_Trend_Index           0\n",
      "Competitor_Activity_Score    0\n",
      "Consumer_Confidence_Index    0\n",
      "Product_Specification_1      0\n",
      "Product_Specification_2      0\n",
      "Sales_Volume                 0\n",
      "dtype: int64\n",
      "\n",
      "0\n",
      "\n",
      "Product_ID                     int64\n",
      "Category                      object\n",
      "Price                        float64\n",
      "Date                          object\n",
      "Season                        object\n",
      "Market_Trend_Index           float64\n",
      "Competitor_Activity_Score    float64\n",
      "Consumer_Confidence_Index    float64\n",
      "Product_Specification_1       object\n",
      "Product_Specification_2       object\n",
      "Sales_Volume                   int64\n",
      "dtype: object\n",
      "\n"
     ]
    }
   ],
   "source": [
    "print(f\"{data.isnull().sum()}\\n\")\n",
    "print(f\"{data.duplicated().sum()}\\n\")\n",
    "print(f\"{data.dtypes}\\n\")"
   ]
  },
  {
   "cell_type": "code",
   "execution_count": 14,
   "id": "3748986c",
   "metadata": {},
   "outputs": [
    {
     "data": {
      "text/plain": [
       "dtype('<M8[ns]')"
      ]
     },
     "execution_count": 14,
     "metadata": {},
     "output_type": "execute_result"
    }
   ],
   "source": [
    "data['Date'] = data['Date'].astype(\"datetime64[ns]\")\n",
    "data['Date'].dtype"
   ]
  },
  {
   "cell_type": "code",
   "execution_count": 15,
   "id": "a5879808",
   "metadata": {},
   "outputs": [
    {
     "data": {
      "image/png": "[encoded data removed]",
      "text/plain": [
       "<Figure size 640x480 with 1 Axes>"
      ]
     },
     "metadata": {},
     "output_type": "display_data"
    },
    {
     "data": {
      "image/png": "[encoded data removed]",
      "text/plain": [
       "<Figure size 640x480 with 1 Axes>"
      ]
     },
     "metadata": {},
     "output_type": "display_data"
    },
    {
     "data": {
      "image/png": "[encoded data removed]",
      "text/plain": [
       "<Figure size 640x480 with 1 Axes>"
      ]
     },
     "metadata": {},
     "output_type": "display_data"
    },
    {
     "data": {
      "image/png": "[encoded data removed]",
      "text/plain": [
       "<Figure size 640x480 with 1 Axes>"
      ]
     },
     "metadata": {},
     "output_type": "display_data"
    },
    {
     "data": {
      "image/png": "[encoded data removed]",
      "text/plain": [
       "<Figure size 640x480 with 1 Axes>"
      ]
     },
     "metadata": {},
     "output_type": "display_data"
    }
   ],
   "source": [
    "outlier_columns = data.select_dtypes(exclude=['object', 'datetime64[ns]']).iloc[0:, 1:].columns.to_list()\n",
    "\n",
    "for column in outlier_columns:\n",
    "    plt.boxplot(data[column])\n",
    "    plt.title(column)\n",
    "    plt.show()"
   ]
  },
  {
   "cell_type": "markdown",
   "id": "0412eb7b",
   "metadata": {},
   "source": [
    "### Save Preprocessed Data for Proper Exploratory Data Analysis"
   ]
  },
  {
   "cell_type": "code",
   "execution_count": 16,
   "id": "e21021b7",
   "metadata": {},
   "outputs": [],
   "source": [
    "data.to_csv(r\"cleaned_data.csv\", index=False)"
   ]
  },
  {
   "cell_type": "code",
   "execution_count": null,
   "id": "ef6b3d6d",
   "metadata": {},
   "outputs": [],
   "source": []
  }
 ],
 "metadata": {
  "kernelspec": {
   "display_name": "somaenv",
   "language": "python",
   "name": "python3"
  },
  "language_info": {
   "codemirror_mode": {
    "name": "ipython",
    "version": 3
   },
   "file_extension": ".py",
   "mimetype": "text/x-python",
   "name": "python",
   "nbconvert_exporter": "python",
   "pygments_lexer": "ipython3",
   "version": "3.11.7"
  }
 },
 "nbformat": 4,
 "nbformat_minor": 5
}
